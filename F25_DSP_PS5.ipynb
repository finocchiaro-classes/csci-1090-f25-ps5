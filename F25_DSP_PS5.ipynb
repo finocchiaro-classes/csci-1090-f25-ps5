{
  "cells": [
    {
      "cell_type": "markdown",
      "metadata": {
        "id": "WmY9X0tZp6MY"
      },
      "source": [
        "# Problem Set 5: Working with numpy and pandas\n",
        "\n",
        "** This problem set is due Wednesday, October 22, at 11:59pm EDT**\n",
        "\n",
        "## Getting started\n",
        "\n",
        "1. Change the title of this notebook to `YourLastName_YourFirstName_DSP_PS5.ipynb`."
      ]
    },
    {
      "cell_type": "markdown",
      "metadata": {
        "id": "fdQ_IaGACPbV"
      },
      "source": [
        "## Insert your honor pledge here\n",
        "Remember: to edit a text cell, double click!"
      ]
    },
    {
      "cell_type": "markdown",
      "metadata": {
        "id": "yiQ_qwe_r1K5"
      },
      "source": [
        "## Part 1: NumPy for Michael Jordan stats\n",
        "\n",
        "In this part of the problem set, you will be downloading and reading in a dataset of statistics for [Michael Jordan](https://en.wikipedia.org/wiki/Michael_Jordan)'s basketball career.\n",
        "\n",
        "View the [dataset in an easy-to-read format here](https://github.com/CSCI1090-S24/ps6/blob/main/michael-jordan.csv) or by clicking on the `michael-jordan.csv` file in your GitHub repo to get an idea of the statistics.\n",
        "\n",
        "Then download the dataset for analysis in this notebook by executing the code below.\n",
        "\n",
        "**Note:** You will have to re-download the file whenever Colab decides to end your session. In general with Colab, if you step away from your computer for a while or just leave this web page for a while, you'll need to re-execute your code from the beginning."
      ]
    },
    {
      "cell_type": "code",
      "execution_count": null,
      "metadata": {
        "id": "CrU92bEWp055"
      },
      "outputs": [],
      "source": [
        "!rm michael-jordan.csv*\n",
        "!wget https://raw.githubusercontent.com/finocchiaro-classes/csci-1090-f25-ps5/main/michael-jordan.csv"
      ]
    },
    {
      "cell_type": "markdown",
      "metadata": {
        "id": "eDUSTbHJsycX"
      },
      "source": [
        "### Your tasks\n",
        "\n",
        "Your goal is to answer the following questions using numpy. Questions 1-7 will involve using numpy aggregate functions like `sum()` and `mean()`. Question 8 will involve using the `count_nonzero()` function.\n",
        "\n",
        "1. How many NBA games did Michael Jordan play?\n",
        "2. What year was Jordan's first year in the NBA?\n",
        "3. How old was Michael Jordan in his last NBA game?\n",
        "4. How many total wins did  Jordan's team have? (In the Wins column, 1=won, 0=lost.)\n",
        "5. On average, how many minutes did Jordan play per game?\n",
        "6. What was Michael's overall shooting percentage? In other words, of all the shots he took, how many did he make?\n",
        "7. How many total rebounds did he have, including both offensive and defensive rebounds?\n",
        "8. In how many games did he foul out? (You \"foul out\" and leave the game when you make 6 fouls.)\n",
        "\n",
        "I've included code for reading in the file and for printing out the column names for your reference."
      ]
    },
    {
      "cell_type": "code",
      "execution_count": null,
      "metadata": {
        "id": "BtJKIoPpuTk7"
      },
      "outputs": [],
      "source": [
        "# Here is the import statement.\n",
        "\n",
        "# In generally, when we import numpy we import it as np.\n",
        "# np is just a shortcut so we don't have to type numpy\n",
        "# every time we want to use an numpy function.\n",
        "\n",
        "import numpy as np"
      ]
    },
    {
      "cell_type": "code",
      "execution_count": null,
      "metadata": {
        "id": "A-jFT96usyLX"
      },
      "outputs": [],
      "source": [
        "# Reading in the file into a numpy array called jordan\n",
        "# NOTE: I am skipping the first row since it's all strings\n",
        "\n",
        "jordan = np.loadtxt(\"michael-jordan.csv\",\n",
        "                    delimiter=\",\",\n",
        "                    skiprows=1,\n",
        "                    dtype=float)\n"
      ]
    },
    {
      "cell_type": "code",
      "execution_count": null,
      "metadata": {
        "id": "grlWuXA3vpHu"
      },
      "outputs": [],
      "source": [
        "# These lines of code are just here to remind you which column\n",
        "# corresponds to which statistics.\n",
        "with open(\"michael-jordan.csv\") as f:\n",
        "  stat_names = f.readline().rstrip().split(\",\")\n",
        "\n",
        "for i in range(len(stat_names)):\n",
        "  print(f\"column {i} = {stat_names[i]}\")"
      ]
    },
    {
      "cell_type": "code",
      "execution_count": null,
      "metadata": {
        "id": "1RwR0KwexfoC"
      },
      "outputs": [],
      "source": [
        "# 1. How many NBA games did Michael Jordan play?\n",
        "\n",
        "\n"
      ]
    },
    {
      "cell_type": "code",
      "execution_count": null,
      "metadata": {
        "id": "eJ86mkh1uwj3"
      },
      "outputs": [],
      "source": [
        "# 2. What year was Jordan's first year in the NBA?\n",
        "\n",
        "\n"
      ]
    },
    {
      "cell_type": "code",
      "execution_count": null,
      "metadata": {
        "id": "wDGlqUhlulRp"
      },
      "outputs": [],
      "source": [
        "# 3. How old was Michael Jordan in his last NBA game?\n",
        "\n",
        "\n"
      ]
    },
    {
      "cell_type": "code",
      "execution_count": null,
      "metadata": {
        "id": "leCaHSbtuy5a"
      },
      "outputs": [],
      "source": [
        "# 4. How many total wins did Jordan's team have? (In the Wins column, 1=won, 0=lost.)\n",
        "\n",
        "\n",
        "\n"
      ]
    },
    {
      "cell_type": "code",
      "execution_count": null,
      "metadata": {
        "id": "YsEUVOQ9u1Yo"
      },
      "outputs": [],
      "source": [
        "# 5. On average, how many minutes did Jordan play per game?\n",
        "\n",
        "\n",
        "\n"
      ]
    },
    {
      "cell_type": "code",
      "execution_count": null,
      "metadata": {
        "id": "kOBmZhM9u31t"
      },
      "outputs": [],
      "source": [
        "# 6. What was Michael's overall shooting percentage?\n",
        "\n",
        "\n"
      ]
    },
    {
      "cell_type": "code",
      "execution_count": null,
      "metadata": {
        "id": "LVuTOwDXu6Bs"
      },
      "outputs": [],
      "source": [
        "# 7. How many total rebounds did he have, including both offensive and defensive rebounds?\n",
        "\n",
        "\n"
      ]
    },
    {
      "cell_type": "code",
      "execution_count": null,
      "metadata": {
        "id": "hdYwaLNFu-IS"
      },
      "outputs": [],
      "source": [
        "# 8. In how many games did he foul out?\n",
        "\n",
        "\n"
      ]
    },
    {
      "cell_type": "markdown",
      "metadata": {
        "id": "noNe4It8yXNU"
      },
      "source": [
        "This is what your output should look like. Remember, as a data scientist, you need to make your results easy to interpret and understand for a layperson. Therefore, you must make your output look nice, like this.\n",
        "\n",
        "Remember to make things whole numbers that are whole number (e.g., years, totals, age, games). You can do this with `round()` or with f-strings (e.g., `print(f\"{my_year_variable:.0f\"})`. We will deduct points if the number formatting is incorrect.\n",
        "\n",
        "```\n",
        "Games played: 1072\n",
        "First year in the NBA: 1985\n",
        "Age in last game: 40 years\n",
        "Total wins: 706\n",
        "Average minutes played per game: 38.26 minutes\n",
        "Overall shooting percentage: %49.69\n",
        "Total rebounds: 6672\n",
        "Games fouled out: 11\n",
        "```"
      ]
    },
    {
      "cell_type": "markdown",
      "metadata": {
        "id": "xMN4IMW3z4Y9"
      },
      "source": [
        "## Part 2: Pandas for country data\n",
        "\n",
        "Now you are going to use pandas to analyze some data. As we learned in class, pandas has many advantages over numpy. The two most helpful are (1) you can have data of mixed types (strings, ints, floats..), and (2) you can refer to columns with their names rather than having to remember their index numbers.\n",
        "\n",
        "The code cell below will download the dataset we'll be using for Part 2. You can view the dataset in a [pleasant easy-to-read format here](https://github.com/CSCI1090-S24/ps6/blob/main/country-data.csv) or in your own repo.\n",
        "\n"
      ]
    },
    {
      "cell_type": "code",
      "execution_count": null,
      "metadata": {
        "id": "EQLftCHWxzNL"
      },
      "outputs": [],
      "source": [
        "!rm country-data.csv*\n",
        "!wget https://raw.githubusercontent.com/finocchiaro-classes/csci-1090-f25-ps5/main/country-data.csv"
      ]
    },
    {
      "cell_type": "markdown",
      "metadata": {
        "id": "V0oB6ZZG23Ji"
      },
      "source": [
        "It is very easy to load in a csv dataset in pandas, but this time, I will do it for you in the cell below. In the future you will have to do this yourself!"
      ]
    },
    {
      "cell_type": "code",
      "execution_count": null,
      "metadata": {
        "id": "Ntn3LI9G16kt"
      },
      "outputs": [],
      "source": [
        "import pandas as pd\n",
        "\n",
        "countries = pd.read_csv(\"country-data.csv\")"
      ]
    },
    {
      "cell_type": "markdown",
      "metadata": {
        "id": "hVBRStgF3N2a"
      },
      "source": [
        "### Your tasks\n",
        "\n",
        "Print out the following information, using the formatting shown at the end of this text cell. **Select 10 of the 12 following tasks.**\n",
        "\n",
        "1. Number of countries.\n",
        "2. Column names.\n",
        "3. Summary descriptive statistics.\n",
        "4. Average literacy rate in the world.\n",
        "7. Top 5 most populous countries\n",
        "9. The 5 countries with the lowest birthrate.\n",
        "5. Number of countries in \"BALTICS\".\n",
        "6. Number of countries in each region.\n",
        "10. Average number of phones per 1000 people in \"OCEANIA\".\n",
        "9. Area of arable land, in square miles, in Kazakhstan.\n",
        "11. The country with the highest population density.\n",
        "12. The \"LATIN AMER. & CARIB\" with the highest GDP.\n",
        "\n"
      ]
    },
    {
      "cell_type": "code",
      "execution_count": null,
      "metadata": {
        "id": "zMYaHGMs3KrX"
      },
      "outputs": [],
      "source": [
        "# 1. Print out the number of countries.\n",
        "\n",
        "\n",
        "\n"
      ]
    },
    {
      "cell_type": "code",
      "execution_count": null,
      "metadata": {
        "id": "Tx-hl3CxcT98"
      },
      "outputs": [],
      "source": [
        "# 2. Print out the column names.\n",
        "\n",
        "\n"
      ]
    },
    {
      "cell_type": "code",
      "execution_count": null,
      "metadata": {
        "id": "jmS49SsfcUKZ"
      },
      "outputs": [],
      "source": [
        "# 3. Print out summary descriptive statistics.\n",
        "\n",
        "\n"
      ]
    },
    {
      "cell_type": "code",
      "execution_count": null,
      "metadata": {
        "id": "xYOHu-hCEDCf"
      },
      "outputs": [],
      "source": [
        "# 4. Average literacy rate in the world.\n",
        "\n",
        "\n"
      ]
    },
    {
      "cell_type": "code",
      "execution_count": null,
      "metadata": {
        "id": "H0Sj-fFWl4b6"
      },
      "outputs": [],
      "source": [
        "# 5. Top 5 most populous countries\n",
        "\n",
        "\n"
      ]
    },
    {
      "cell_type": "code",
      "execution_count": null,
      "metadata": {
        "id": "F66lwNyal6hm"
      },
      "outputs": [],
      "source": [
        "# 6. The 5 countries with the lowest birthrate\n",
        "\n",
        "\n"
      ]
    },
    {
      "cell_type": "code",
      "execution_count": null,
      "metadata": {
        "id": "xpR5m-Fi6kiu"
      },
      "outputs": [],
      "source": [
        "# 7. Number of countries in the Baltics.\n",
        "\n",
        "\n",
        "\n"
      ]
    },
    {
      "cell_type": "code",
      "execution_count": null,
      "metadata": {
        "id": "Rl11nspc6teS"
      },
      "outputs": [],
      "source": [
        "# 8. How many countries are in each region?\n",
        "\n",
        "# Hint: use value_counts()\n",
        "\n",
        "\n"
      ]
    },
    {
      "cell_type": "code",
      "execution_count": null,
      "metadata": {
        "id": "aw7EchfA1tOK"
      },
      "outputs": [],
      "source": [
        "# 9. How many phones per 1000 people are there in \"OCEANIA\" on average?\n",
        "\n",
        "# First get all the Oceania countries\n",
        "\n",
        "\n",
        "\n",
        "# Then get the the mean of their Phones-per-1000 column\n",
        "\n",
        "\n",
        "\n",
        "# Then print it out\n",
        "\n",
        "\n",
        "\n"
      ]
    },
    {
      "cell_type": "code",
      "execution_count": null,
      "metadata": {
        "id": "PpTDoZ_-1YSa"
      },
      "outputs": [],
      "source": [
        "# 10. How much land (not what percent) in Kazakhstan is arable?\n",
        "\n",
        "# First get Kazakhstan row\n",
        "\n",
        "# Then get area, which is provided in square miles.\n",
        "\n",
        "# Then get arable percentage.\n",
        "\n",
        "# Convert arable percentage to a decimal and then multiply.\n",
        "\n",
        "# Print out the result\n",
        "\n",
        "\n"
      ]
    },
    {
      "cell_type": "code",
      "execution_count": null,
      "metadata": {
        "id": "qsAAHHtdc_ZB"
      },
      "outputs": [],
      "source": [
        "# 11. What country has the highest population density\n",
        "\n",
        "# Calculate the population density like this:\n",
        "countries[\"popd\"] = countries[\"Population\"] / countries[\"Area-Sq-Mi\"]\n",
        "\n",
        "# Then find the id of the one with the max population density with idmax\n",
        "\n",
        "\n",
        "# Then print it out.\n",
        "\n",
        "\n"
      ]
    },
    {
      "cell_type": "code",
      "execution_count": null,
      "metadata": {
        "id": "ja-sEBMidXvZ"
      },
      "outputs": [],
      "source": [
        "# 12. What country in \"LATIN AMER. & CARIB\" has the highest GDP?\n",
        "\n",
        "# First get the countries in this region.\n",
        "\n",
        "\n",
        "# Then get the id of the country with the max GDP from that dataframe with idxmax()\n",
        "\n",
        "\n",
        "\n",
        "# Then print out the country name using that index.\n",
        "\n"
      ]
    },
    {
      "cell_type": "markdown",
      "metadata": {
        "id": "9XBWNCsIHP3b"
      },
      "source": [
        "Here's what the output should look like for questions 4-12:\n",
        "\n",
        "```\n",
        "Average world literacy: 82.84%\n",
        "\n",
        "Five most populous countries:\n",
        "China\n",
        "India\n",
        "United States\n",
        "Indonesia\n",
        "Brazil\n",
        "\n",
        "Five countries with the lowest birthrate:\n",
        "Hong Kong\n",
        "Germany\n",
        "Macau\n",
        "Andorra\n",
        "Italy\n",
        "\n",
        "Number of countries in the Baltics: 3\n",
        "\n",
        "Countries per region\n",
        "SUB-SAHARAN AFRICA: 51\n",
        "LATIN AMER. & CARIB: 45\n",
        "ASIA: 28\n",
        "WESTERN EUROPE: 28\n",
        "OCEANIA: 21\n",
        "NEAR EAST: 16\n",
        "C.W. OF IND. STATES: 12\n",
        "EASTERN EUROPE: 12\n",
        "NORTHERN AFRICA: 6\n",
        "NORTHERN AMERICA: 5\n",
        "BALTICS: 3\n",
        "\n",
        "The average number of phones per 1000 people in countries in Oceania: 189.89.\n",
        "\n",
        "Arable land in Kazakhstan: 216840.54 sq. mi.\n",
        "\n",
        "Country with highest population density: Monaco\n",
        "\n",
        "Country in Latin American and Caribbean with highest GDP: Cayman Islands\n",
        "```"
      ]
    },
    {
      "cell_type": "markdown",
      "metadata": {
        "id": "NFMCjJ0EAuEy"
      },
      "source": [
        "## Submitting your work\n",
        "\n",
        "You should have already done a few of these steps at the beginning, but here's a reminder:\n",
        "\n",
        "1. Rename this file as `YourLastName_YourFirstName_DSP_PS5.ipynb`.\n",
        "\n",
        "This problem set is due Wednesday, October 22, at 11:59pm EDT.\n",
        "\n"
      ]
    }
  ],
  "metadata": {
    "colab": {
      "provenance": []
    },
    "kernelspec": {
      "display_name": "Python 3",
      "name": "python3"
    },
    "language_info": {
      "name": "python"
    }
  },
  "nbformat": 4,
  "nbformat_minor": 0
}
